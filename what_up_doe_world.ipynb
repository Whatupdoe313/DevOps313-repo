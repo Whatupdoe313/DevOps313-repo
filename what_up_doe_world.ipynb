{
  "nbformat": 4,
  "nbformat_minor": 0,
  "metadata": {
    "colab": {
      "provenance": [],
      "authorship_tag": "ABX9TyNHNJYSg3UeN3Ui4r+FehPQ",
      "include_colab_link": true
    },
    "kernelspec": {
      "name": "python3",
      "display_name": "Python 3"
    },
    "language_info": {
      "name": "python"
    }
  },
  "cells": [
    {
      "cell_type": "markdown",
      "metadata": {
        "id": "view-in-github",
        "colab_type": "text"
      },
      "source": [
        "<a href=\"https://colab.research.google.com/github/Whatupdoe313/DevOps313-repo/blob/main/what_up_doe_world.ipynb\" target=\"_parent\"><img src=\"https://colab.research.google.com/assets/colab-badge.svg\" alt=\"Open In Colab\"/></a>"
      ]
    },
    {
      "cell_type": "code",
      "source": [],
      "metadata": {
        "id": "kUJqr7v7mvkU"
      },
      "execution_count": null,
      "outputs": []
    },
    {
      "cell_type": "code",
      "source": [
        "# This is a code cell in a Colab notebook\n",
        "# You can run this cell by clicking on the play button on the left of this cell\n",
        "\n",
        "# Print \"what up doe, world!\"\n",
        "print(\"what up doe, world!\")\n"
      ],
      "metadata": {
        "colab": {
          "base_uri": "https://localhost:8080/"
        },
        "outputId": "dd26b570-d5df-43df-f719-945e0b446c37",
        "id": "6nVflPJMcIyM"
      },
      "execution_count": 1,
      "outputs": [
        {
          "output_type": "stream",
          "name": "stdout",
          "text": [
            "what up doe, world!\n"
          ]
        }
      ]
    }
  ]
}