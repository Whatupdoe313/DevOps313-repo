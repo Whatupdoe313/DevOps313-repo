{
  "nbformat": 4,
  "nbformat_minor": 0,
  "metadata": {
    "colab": {
      "provenance": [],
      "authorship_tag": "ABX9TyOpFJNPgMNfMEoholM83Md7",
      "include_colab_link": true
    },
    "kernelspec": {
      "name": "python3",
      "display_name": "Python 3"
    },
    "language_info": {
      "name": "python"
    }
  },
  "cells": [
    {
      "cell_type": "markdown",
      "metadata": {
        "id": "view-in-github",
        "colab_type": "text"
      },
      "source": [
        "<a href=\"https://colab.research.google.com/github/Whatupdoe313/DevOps313-repo/blob/main/Ai_Driven_conversation_presentation.ipynb\" target=\"_parent\"><img src=\"https://colab.research.google.com/assets/colab-badge.svg\" alt=\"Open In Colab\"/></a>"
      ]
    },
    {
      "cell_type": "code",
      "source": [
        "@startuml\n",
        "left to right direction\n",
        "\n",
        "actor User as U\n",
        "actor AI as A\n",
        "rectangle \"AI-Driven Conversation System Presentation\" as C {\n",
        "  usecase \"User interacts with the system\" as UC1\n",
        "  usecase \"System processes user input\" as UC2\n",
        "  usecase \"System generates response\" as UC3\n",
        "  usecase \"System presents response to user\" as UC4\n",
        "\n",
        "  U --> UC1\n",
        "  UC1 --> UC2\n",
        "  UC2 --> UC3\n",
        "  UC3 --> UC4\n",
        "  UC4 --> U\n",
        "  UC3 --> A\n",
        "}\n",
        "\n",
        "@enduml\n"
      ],
      "metadata": {
        "outputId": "4615e5bf-9860-47af-ade0-6b53e5905cd9",
        "colab": {
          "base_uri": "https://localhost:8080/",
          "height": 140
        },
        "id": "c9O91CXn1W78"
      },
      "execution_count": null,
      "outputs": [
        {
          "output_type": "error",
          "ename": "SyntaxError",
          "evalue": "invalid syntax (<ipython-input-1-c5685855c761>, line 2)",
          "traceback": [
            "\u001b[0;36m  File \u001b[0;32m\"<ipython-input-1-c5685855c761>\"\u001b[0;36m, line \u001b[0;32m2\u001b[0m\n\u001b[0;31m    left to right direction\u001b[0m\n\u001b[0m    ^\u001b[0m\n\u001b[0;31mSyntaxError\u001b[0m\u001b[0;31m:\u001b[0m invalid syntax\n"
          ]
        }
      ]
    },
    {
      "cell_type": "code",
      "source": [
        "@startuml\n",
        "left to right direction\n",
        "\n",
        "actor User as U\n",
        "actor AI as A\n",
        "rectangle \"AI-Driven Conversation System Presentation\" as C {\n",
        "  usecase \"User interacts with the system\" as UC1\n",
        "  usecase \"System processes user input\" as UC2\n",
        "  usecase \"System generates response\" as UC3\n",
        "  usecase \"System presents response to user\" as UC4\n",
        "\n",
        "  U --> UC1\n",
        "  UC1 --> UC2\n",
        "  UC2 --> UC3\n",
        "  UC3 --> UC4\n",
        "  UC4 --> U\n",
        "  UC3 --> A\n",
        "}\n",
        "\n",
        "@enduml\n"
      ],
      "metadata": {
        "id": "c0ZGUx1nrPJX",
        "outputId": "4615e5bf-9860-47af-ade0-6b53e5905cd9",
        "colab": {
          "base_uri": "https://localhost:8080/",
          "height": 140
        }
      },
      "execution_count": null,
      "outputs": [
        {
          "output_type": "error",
          "ename": "SyntaxError",
          "evalue": "invalid syntax (<ipython-input-1-c5685855c761>, line 2)",
          "traceback": [
            "\u001b[0;36m  File \u001b[0;32m\"<ipython-input-1-c5685855c761>\"\u001b[0;36m, line \u001b[0;32m2\u001b[0m\n\u001b[0;31m    left to right direction\u001b[0m\n\u001b[0m    ^\u001b[0m\n\u001b[0;31mSyntaxError\u001b[0m\u001b[0;31m:\u001b[0m invalid syntax\n"
          ]
        }
      ]
    }
  ]
}